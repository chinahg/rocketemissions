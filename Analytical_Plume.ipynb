{
 "cells": [
  {
   "cell_type": "code",
   "execution_count": 1,
   "id": "2b26d855-3577-4c01-877e-343ea25a4225",
   "metadata": {},
   "outputs": [
    {
     "data": {
      "text/plain": [
       "<module 'Analytical_Plume_fxns' from '/home/chinahg/GCresearch/rocketemissions/Analytical_Plume_fxns.py'>"
      ]
     },
     "execution_count": 1,
     "metadata": {},
     "output_type": "execute_result"
    }
   ],
   "source": [
    "#!/opt/conda/envs/lae2020/bin/python3\n",
    "\n",
    "from importlib.abc import Loader\n",
    "import sys\n",
    "import os\n",
    "import ruamel.yaml\n",
    "\n",
    "sys.path.insert(0,\"/home/chinahg/GCresearch/cantera/build/python\")\n",
    "sys.path.insert(1,\"/home/chinahg/GCresearch/rocketemissions\")\n",
    "\n",
    "import cantera as ct\n",
    "ct.add_directory('/user/chinahg')\n",
    "ct.__file__\n",
    "\n",
    "import importlib\n",
    "import h5py\n",
    "import numpy as np\n",
    "import time\n",
    "import math as math\n",
    "import matplotlib.pyplot as plt\n",
    "import scipy as sp\n",
    "import scipy.optimize\n",
    "import yaml\n",
    "import shutil\n",
    "from scipy import integrate\n",
    "import matplotlib.pyplot as plt\n",
    "import Analytical_Plume_fxns as ap\n",
    "importlib.reload(ap)"
   ]
  },
  {
   "cell_type": "code",
   "execution_count": 2,
   "id": "b59d239c-c5cf-4b9f-a964-d91c26d291cc",
   "metadata": {},
   "outputs": [
    {
     "name": "stderr",
     "output_type": "stream",
     "text": [
      "/home/chinahg/GCresearch/rocketemissions/Analytical_Plume_fxns.py:117: RuntimeWarning: divide by zero encountered in double_scalars\n",
      "  u_ZFE[i,j] = u_ZFE0*np.exp((-(r_ZFE[i,j]-R[i])**2)/(2*sigma_ZFEu[i]**2))\n",
      "/home/chinahg/GCresearch/rocketemissions/Analytical_Plume_fxns.py:118: RuntimeWarning: divide by zero encountered in double_scalars\n",
      "  c_ZFE[i,j] = c_ZFE0*np.exp((-(r_ZFE[i,j]-R[i])**2)/(lmbda_ZFE**2 * sigma_ZFEc[i]**2))\n"
     ]
    }
   ],
   "source": [
    "## CONSTANTS\n",
    "nx_ZFE = 100 # number of steps to take in the x direction for the zone of flow establishment\n",
    "nx_ZEF = 100 # number of steps to take in the x direction for the zone of established flow\n",
    "nx_tot = nx_ZEF+nx_ZFE # Total number of axial steps\n",
    "nr = 100000 # number of steps to take in the radial direction for all zones\n",
    "\n",
    "D = 2.90 # [m] Initial plume diameter (ZFE)\n",
    "xmax_ZFE = 6.2*D # [m] Axial domain ZFE\n",
    "xmax_ZEF = 200 # [m] Axial domain for ZEF\n",
    "\n",
    "beta_ZFE = 0.114 # Diffusion coefficient\n",
    "lmbda_ZFE = 1.2 # Mixing coefficient\n",
    "lmbda_ZEF = 1.35 # Mixing coefficient\n",
    "beta_ZEF = 0.154 # Diffusion coefficient\n",
    "\n",
    "## IMPORTED CONDITIONS\n",
    "T0 = 1800 # [K] Initial plume temperature NEED TO UPDATE\n",
    "u_ZFE0 = 1500 # [m/s] Rocket velocity (need to import)\n",
    "c_ZFE0 = 600000 # [mol/mol] Tracer ppm test\n",
    "U_a = 428 # [m/s] Ambient velocity (need to import)\n",
    "T_a = 400 # Ambient temperature [K] replace must import\n",
    "\n",
    "## INITIALIZING ARRAYS\n",
    "u_ZFE = np.zeros((nx_ZFE,nr)) # Velocity array for ZFE domain\n",
    "c_ZFE = np.zeros((nx_ZFE,nr)) # Concentration array for ZFE domain\n",
    "\n",
    "u_ZEF = np.zeros((nx_ZEF,nr)) # Velocity array for ZEF domain\n",
    "c_ZEF = np.zeros((nx_ZEF,nr)) # Concentration array for ZEF domain\n",
    "\n",
    "r_ZFE = np.zeros((nx_ZFE,nr)) # Radial sampling points, for each x. For x = 1 sample points from r = 0 to r = b[i]\n",
    "x_ZFE = np.linspace(0,xmax_ZFE,nx_ZFE) # Axial sampling points\n",
    "\n",
    "r_ZEF = np.zeros((nx_ZEF,nr))\n",
    "x_ZEF = np.linspace(xmax_ZFE,xmax_ZEF,nx_ZEF)\n",
    "\n",
    "A_c = c_ZFE0*(D/2) #step fxn area\n",
    "A_u = u_ZFE0*(D/2) #step fxn area\n",
    "\n",
    "## ZFE\n",
    "# Compute velocity and concentration profiles for the zone of flow establishment\n",
    "u_ZFE, c_ZFE, r_ZFE = ap.compute_ZFE(u_ZFE, c_ZFE, u_ZFE0, c_ZFE0, r_ZFE, x_ZFE, beta_ZFE, lmbda_ZFE, D, nx_ZFE, nr, xmax_ZFE, A_c, A_u, U_a)\n",
    "\n",
    "## ZEF\n",
    "# Compute velocity and concentration profiles for the zone of established flow\n",
    "u_ZEF, c_ZEF, r_ZEF = ap.compute_ZEF(u_ZFE0, c_ZFE0, U_a, r_ZFE[nx_ZFE-1,nr-1], nx_ZFE, nx_ZEF, r_ZEF, xmax_ZFE, xmax_ZEF, nr, A_c, A_u)"
   ]
  },
  {
   "cell_type": "code",
   "execution_count": 4,
   "id": "bb67064a",
   "metadata": {},
   "outputs": [
    {
     "ename": "IndexError",
     "evalue": "index 100 is out of bounds for axis 0 with size 100",
     "output_type": "error",
     "traceback": [
      "\u001b[0;31m---------------------------------------------------------------------------\u001b[0m",
      "\u001b[0;31mIndexError\u001b[0m                                Traceback (most recent call last)",
      "\u001b[0;32m/tmp/ipykernel_2989136/1201165470.py\u001b[0m in \u001b[0;36m<module>\u001b[0;34m\u001b[0m\n\u001b[1;32m     10\u001b[0m    \u001b[0mnx\u001b[0m \u001b[0;34m=\u001b[0m \u001b[0mnx_ZFE\u001b[0m\u001b[0;34m\u001b[0m\u001b[0;34m\u001b[0m\u001b[0m\n\u001b[1;32m     11\u001b[0m \u001b[0;34m\u001b[0m\u001b[0m\n\u001b[0;32m---> 12\u001b[0;31m \u001b[0mT\u001b[0m\u001b[0;34m,\u001b[0m\u001b[0mrT\u001b[0m \u001b[0;34m=\u001b[0m \u001b[0map\u001b[0m\u001b[0;34m.\u001b[0m\u001b[0mdiffusion\u001b[0m\u001b[0;34m(\u001b[0m\u001b[0mnx\u001b[0m\u001b[0;34m,\u001b[0m \u001b[0mnr\u001b[0m\u001b[0;34m,\u001b[0m \u001b[0mxmax\u001b[0m\u001b[0;34m,\u001b[0m \u001b[0mr_ZFE\u001b[0m\u001b[0;34m,\u001b[0m \u001b[0mr_ZEF\u001b[0m\u001b[0;34m,\u001b[0m \u001b[0mnT\u001b[0m\u001b[0;34m,\u001b[0m \u001b[0mT_a\u001b[0m\u001b[0;34m,\u001b[0m \u001b[0mT0\u001b[0m\u001b[0;34m,\u001b[0m \u001b[0mflag\u001b[0m\u001b[0;34m)\u001b[0m \u001b[0;31m#ADD ZFE element to fxn\u001b[0m\u001b[0;34m\u001b[0m\u001b[0;34m\u001b[0m\u001b[0m\n\u001b[0m\u001b[1;32m     13\u001b[0m \u001b[0;34m\u001b[0m\u001b[0m\n\u001b[1;32m     14\u001b[0m \u001b[0;31m#Adding Cantera\u001b[0m\u001b[0;34m\u001b[0m\u001b[0;34m\u001b[0m\u001b[0;34m\u001b[0m\u001b[0m\n",
      "\u001b[0;32m~/GCresearch/rocketemissions/Analytical_Plume_fxns.py\u001b[0m in \u001b[0;36mdiffusion\u001b[0;34m(nx, nr, xmax, r_ZFE, r_ZEF, nT, T_a, T0, flag)\u001b[0m\n\u001b[1;32m     58\u001b[0m    \u001b[0;31m# Initial conditions\u001b[0m\u001b[0;34m\u001b[0m\u001b[0;34m\u001b[0m\u001b[0;34m\u001b[0m\u001b[0m\n\u001b[1;32m     59\u001b[0m    \u001b[0;32mfor\u001b[0m \u001b[0mi\u001b[0m \u001b[0;32min\u001b[0m \u001b[0mrange\u001b[0m\u001b[0;34m(\u001b[0m\u001b[0;36m1\u001b[0m\u001b[0;34m,\u001b[0m\u001b[0mxmax\u001b[0m\u001b[0;34m-\u001b[0m\u001b[0;36m1\u001b[0m\u001b[0;34m)\u001b[0m\u001b[0;34m:\u001b[0m\u001b[0;34m\u001b[0m\u001b[0;34m\u001b[0m\u001b[0m\n\u001b[0;32m---> 60\u001b[0;31m       \u001b[0mrmax\u001b[0m \u001b[0;34m=\u001b[0m \u001b[0mr\u001b[0m\u001b[0;34m[\u001b[0m\u001b[0mi\u001b[0m\u001b[0;34m,\u001b[0m\u001b[0mnr\u001b[0m\u001b[0;34m-\u001b[0m\u001b[0;36m1\u001b[0m\u001b[0;34m]\u001b[0m\u001b[0;34m\u001b[0m\u001b[0;34m\u001b[0m\u001b[0m\n\u001b[0m\u001b[1;32m     61\u001b[0m       \u001b[0;32mif\u001b[0m\u001b[0;34m(\u001b[0m\u001b[0mr\u001b[0m\u001b[0;34m[\u001b[0m\u001b[0mi\u001b[0m\u001b[0;34m-\u001b[0m\u001b[0;36m1\u001b[0m\u001b[0;34m,\u001b[0m \u001b[0mnr\u001b[0m\u001b[0;34m-\u001b[0m\u001b[0;36m1\u001b[0m\u001b[0;34m]\u001b[0m \u001b[0;34m+\u001b[0m \u001b[0mdr\u001b[0m\u001b[0;34m[\u001b[0m\u001b[0mi\u001b[0m\u001b[0;34m]\u001b[0m \u001b[0;34m>\u001b[0m \u001b[0;34m(\u001b[0m\u001b[0mrmax\u001b[0m\u001b[0;34m/\u001b[0m\u001b[0;36m2\u001b[0m\u001b[0;34m)\u001b[0m\u001b[0;34m-\u001b[0m\u001b[0;36m1.45\u001b[0m \u001b[0;32mand\u001b[0m \u001b[0mr\u001b[0m\u001b[0;34m[\u001b[0m\u001b[0mi\u001b[0m\u001b[0;34m-\u001b[0m\u001b[0;36m1\u001b[0m\u001b[0;34m,\u001b[0m \u001b[0mnr\u001b[0m\u001b[0;34m-\u001b[0m\u001b[0;36m1\u001b[0m\u001b[0;34m]\u001b[0m \u001b[0;34m+\u001b[0m \u001b[0mdr\u001b[0m\u001b[0;34m[\u001b[0m\u001b[0mi\u001b[0m\u001b[0;34m]\u001b[0m \u001b[0;34m<\u001b[0m \u001b[0;34m(\u001b[0m\u001b[0mrmax\u001b[0m\u001b[0;34m/\u001b[0m\u001b[0;36m2\u001b[0m\u001b[0;34m)\u001b[0m\u001b[0;34m+\u001b[0m\u001b[0;36m1.45\u001b[0m\u001b[0;34m)\u001b[0m\u001b[0;34m:\u001b[0m\u001b[0;34m\u001b[0m\u001b[0;34m\u001b[0m\u001b[0m\n\u001b[1;32m     62\u001b[0m          \u001b[0mT\u001b[0m\u001b[0;34m[\u001b[0m\u001b[0mi\u001b[0m\u001b[0;34m,\u001b[0m\u001b[0;36m0\u001b[0m\u001b[0;34m]\u001b[0m \u001b[0;34m=\u001b[0m \u001b[0mT0\u001b[0m\u001b[0;34m\u001b[0m\u001b[0;34m\u001b[0m\u001b[0m\n",
      "\u001b[0;31mIndexError\u001b[0m: index 100 is out of bounds for axis 0 with size 100"
     ]
    }
   ],
   "source": [
    "#Compute T(x,r)\n",
    "nT = 0.1 # Temperature accuracy\n",
    "flag = \"ZEF\"\n",
    "\n",
    "if flag == \"ZEF\":\n",
    "   xmax = xmax_ZEF\n",
    "   nx = nx_ZEF\n",
    "elif flag == \"ZFE\":\n",
    "   xmax = xmax_ZFE\n",
    "   nx = nx_ZFE\n",
    "   \n",
    "T,rT = ap.diffusion(nx, nr, xmax, r_ZFE, r_ZEF, nT, T_a, T0, flag) #ADD ZFE element to fxn\n",
    "\n",
    "#Adding Cantera\n",
    "n_species = 201\n",
    "\n",
    "#for i in range(0, nx_ZEF+nx_ZFE): # loop through axial direction\n",
    "#    u,c = compute_ZFE()\n",
    "#    for j in range(0,n_species): # loop through species (concentration of species j at x = i and r = all)\n",
    "#"
   ]
  },
  {
   "cell_type": "code",
   "execution_count": null,
   "id": "bf7f3c53",
   "metadata": {},
   "outputs": [],
   "source": [
    "#Plots ZFE\n",
    "#plot_diffusion(T,r,nx,xmax,'Figure 1')\n",
    "fig, ax1 = plt.subplots()\n",
    "fig, ax2 = plt.subplots()\n",
    "ax1.set_title(\"Velocity Profiles\")\n",
    "ax2.set_title(\"Concentration Profiles\")\n",
    "ax1.set_xlabel(\"Radial location in plume\")\n",
    "ax2.set_xlabel(\"Radial location in plume\")\n",
    "ax1.set_ylabel(\"Plume velocity [m/s]\")\n",
    "ax2.set_ylabel(\"Concentration of tracer [ppm]\")\n",
    "ax1.set_xlim(0,5)\n",
    "ax2.set_xlim(0,5)\n",
    "\n",
    "\n",
    "fig,ax3 = plt.subplots()\n",
    "ax3.set_xlabel(\"Axial location in plume [m]\")\n",
    "ax3.set_ylabel(\"Plume radius [m]\")\n",
    "\n",
    "for i in range(0,nx_ZFE,10):\n",
    "    ax1.plot(r_ZFE[i,:],u_ZFE[i,:])\n",
    "    ax2.plot(r_ZFE[i,:],c_ZFE[i,:])\n",
    "    \n",
    "ax3.plot(x_ZFE, r_ZFE[:,nr-1]-3.5) # plotting b\n",
    "\n",
    "#checking that concentration is conserved of tracer\n",
    "print(np.trapz(u_ZFE[1,:],x=r_ZFE[1,:])/np.trapz(u_ZFE[99,:],x=r_ZFE[99,:]))\n",
    "print(np.trapz(c_ZFE[1,:],x=r_ZFE[1,:])/np.trapz(c_ZFE[99,:],x=r_ZFE[99,:]))"
   ]
  },
  {
   "cell_type": "code",
   "execution_count": null,
   "id": "14408b67-3569-4338-900b-02f5d263c463",
   "metadata": {},
   "outputs": [],
   "source": [
    "#Plots ZEF\n",
    "#print(rT)\n",
    "ap.plot_diffusion(T,rT,nx_ZEF,xmax,'Figure 1')\n",
    "fig, ax1 = plt.subplots()\n",
    "fig, ax2 = plt.subplots()\n",
    "fig, ax3 = plt.subplots()\n",
    "ax1.set_title(\"Velocity Profiles\")\n",
    "ax2.set_title(\"Concentration Profiles\")\n",
    "ax1.set_xlabel(\"Radial location in plume\")\n",
    "ax2.set_xlabel(\"Radial location in plume\")\n",
    "ax1.set_ylabel(\"Plume velocity [m/s]\")\n",
    "ax2.set_ylabel(\"Concentration of tracer [ppm]\")\n",
    "ax1.set_xlim(3.5,15)\n",
    "ax2.set_xlim(3.5,15)\n",
    "\n",
    "for i in range(nx_ZEF-1):\n",
    "    ax1.plot(r_ZEF[i,:]+3.5,u_ZEF[i,:])\n",
    "\n",
    "for i in range(nx_ZEF-1):\n",
    "    ax2.plot(r_ZEF[i,:]+3.5,c_ZEF[i,:])\n",
    "\n",
    "ax3.plot(x_ZEF, r_ZEF[:, nr-1]-50) # plotting b\n",
    "\n",
    "#checking that concentration is conserved of tracer\n",
    "\n",
    "print(np.trapz(u_ZEF[0,:],x=r_ZEF[0,:])/np.trapz(u_ZEF[nx_ZEF-2,:],x=r_ZEF[nx_ZEF-2,:]))\n",
    "print(np.trapz(c_ZEF[0,:],x=r_ZEF[0,:])/np.trapz(c_ZEF[nx_ZEF-2,:],x=r_ZEF[nx_ZEF-2,:]))"
   ]
  },
  {
   "cell_type": "code",
   "execution_count": null,
   "id": "e8dcc2d9",
   "metadata": {},
   "outputs": [],
   "source": [
    "### ADDING CANTERA\n"
   ]
  },
  {
   "cell_type": "code",
   "execution_count": null,
   "id": "3749866a",
   "metadata": {},
   "outputs": [],
   "source": [
    "mdotAr = np.zeros((nx_ZEF,nr))\n",
    "mdot_x = np.zeros(nx_ZEF)\n",
    "rho = 1.69\n",
    "A = np.zeros((nx_ZEF,nr))\n",
    "x_ZEF = np.linspace(xmax_ZFE,xmax_ZEF,nx_ZEF)\n",
    "\n",
    "#for i in range(0, nx_ZEF+nx_ZFE): # loop through axial direction\n",
    "#    u,c = compute_ZFE()\n",
    "#    for j in range(0,n_species): # loop through species (concentration of species j at x = i and r = all)\n",
    "for i in range(nx_ZEF-1):\n",
    "    for j in range(nr-1):\n",
    "        #rho = 0.0395*P_atm/(8.314*T[i,j])\n",
    "        A[i,j] = np.pi*(r_ZEF[i,j+1]**2-r_ZEF[i,j]**2)\n",
    "        mdotAr[i,j] = c_ZEF[i,j]*u_ZEF[i,j]*rho*A[i,j]/(10**6) #[x,r]\n",
    "        \n",
    "np.shape(c_ZEF)\n",
    "plt.figure()\n",
    "fig, ax1 = plt.subplots()\n",
    "\n",
    "mdot_sum = np.zeros(nx_ZEF)\n",
    "\n",
    "for i in range(nx_ZEF):\n",
    "    for j in range(nr):\n",
    "        mdot_sum[i] += mdotAr[i,j]\n",
    "        \n",
    "ax1.plot(x_ZEF[0:99],mdot_sum[0:99])\n",
    "\n",
    "plt.show()"
   ]
  },
  {
   "cell_type": "code",
   "execution_count": null,
   "id": "92a5ace6",
   "metadata": {},
   "outputs": [],
   "source": []
  },
  {
   "cell_type": "code",
   "execution_count": null,
   "id": "a946e626",
   "metadata": {},
   "outputs": [],
   "source": []
  }
 ],
 "metadata": {
  "kernelspec": {
   "display_name": "Python 3.8.5 ('lae2020')",
   "language": "python",
   "name": "python3"
  },
  "language_info": {
   "codemirror_mode": {
    "name": "ipython",
    "version": 3
   },
   "file_extension": ".py",
   "mimetype": "text/x-python",
   "name": "python",
   "nbconvert_exporter": "python",
   "pygments_lexer": "ipython3",
   "version": "3.8.5"
  },
  "vscode": {
   "interpreter": {
    "hash": "df67b4d3657d816acef4cf7f4f2579787d3e275da6e6d4bbdef6b1ebd26fad6f"
   }
  }
 },
 "nbformat": 4,
 "nbformat_minor": 5
}
