{
 "cells": [
  {
   "cell_type": "code",
   "execution_count": 10,
   "id": "4452338f",
   "metadata": {},
   "outputs": [],
   "source": [
    "#!/opt/conda/envs/lae2020/bin/python3\n",
    "\n",
    "from importlib.abc import Loader\n",
    "import sys\n",
    "import os\n",
    "import ruamel.yaml\n",
    "\n",
    "sys.path.insert(0,\"/home/chinahg/GCresearch/cantera/build/python\")\n",
    "sys.path.insert(1,\"/home/chinahg/GCresearch/rocketemissions\")\n",
    "\n",
    "import cantera as ct\n",
    "ct.add_directory('/user/chinahg')\n",
    "ct.__file__\n",
    "\n",
    "import h5py\n",
    "import numpy as np\n",
    "import time\n",
    "import math as math\n",
    "import matplotlib.pyplot as plt\n",
    "import scipy as sp\n",
    "import scipy.optimize\n",
    "\n",
    "from combustion_chamber import *\n",
    "from shocks import *\n",
    "from nozzle import *\n",
    "from SSME import *\n",
    "\n",
    "import yaml\n",
    "loader=yaml.Loader\n",
    "\n",
    "from matplotlib.ticker import FormatStrFormatter"
   ]
  },
  {
   "cell_type": "code",
   "execution_count": 34,
   "id": "d9564d87",
   "metadata": {},
   "outputs": [
    {
     "data": {
      "text/plain": [
       "[<matplotlib.lines.Line2D at 0x7f66bcb2a940>]"
      ]
     },
     "execution_count": 34,
     "metadata": {},
     "output_type": "execute_result"
    },
    {
     "data": {
      "image/png": "[encoded data removed]",
      "text/plain": [
       "<Figure size 432x288 with 2 Axes>"
      ]
     },
     "metadata": {
      "needs_background": "light"
     },
     "output_type": "display_data"
    }
   ],
   "source": [
    "#PLOT TEMPERATURE\n",
    "T_lit = np.full((len(state.T),1),3588.7)\n",
    "OxInj_T = np.full((len(state.T),1),145.9)\n",
    "FuelInj_T = np.full((len(state.T),1),533.15)\n",
    "\n",
    "f, (ax, ax2) = plt.subplots(2, 1, sharex=True)\n",
    "\n",
    "ax2.plot(state.t, OxInj_T, label = '$O_2$ Injection Temperature', color = 'lightskyblue')\n",
    "ax2.plot(state.t, FuelInj_T, label = '$H_2$ Injection Temperature', color = 'red')\n",
    "ax.plot(state.t,state.T, label = 'Combustion Chamber Temperature', color = 'darkorange')\n",
    "ax.plot(state.t, T_lit, label = 'Literature Combustion Temperature', color = 'darkgray', linestyle = 'dashed')\n",
    "\n",
    "plt.xlabel(\"Time [s]\")\n",
    "plt.ylabel(\"Temperature [K]\")\n",
    "\n",
    "plt.xlim([0,0.2])\n",
    "ax2.set_ylim(100,600)\n",
    "ax.set_ylim(3500,3800)\n",
    "ax.legend()\n",
    "ax2.legend()\n",
    "\n",
    "ax.xaxis.set_major_formatter(FormatStrFormatter('%.2f'))\n",
    "ax.spines['bottom'].set_visible(False)\n",
    "ax2.spines['top'].set_visible(False)\n",
    "ax.xaxis.tick_top()\n",
    "ax.tick_params(labeltop=False)  # don't put tick labels at the top\n",
    "ax2.xaxis.tick_bottom()\n",
    "\n",
    "d = .015  # how big to make the diagonal lines in axes coordinates\n",
    "# arguments to pass to plot, just so we don't keep repeating them\n",
    "kwargs = dict(transform=ax.transAxes, color='k', clip_on=False)\n",
    "ax.plot((-d, +d), (-d, +d), **kwargs)        # top-left diagonal\n",
    "ax.plot((1 - d, 1 + d), (-d, +d), **kwargs)  # top-right diagonal\n",
    "\n",
    "kwargs.update(transform=ax2.transAxes)  # switch to the bottom axes\n",
    "ax2.plot((-d, +d), (1 - d, 1 + d), **kwargs)  # bottom-left diagonal\n",
    "ax2.plot((1 - d, 1 + d), (1 - d, 1 + d), **kwargs)  # bottom-right diagonal\n"
   ]
  },
  {
   "cell_type": "code",
   "execution_count": null,
   "id": "ae0c3086",
   "metadata": {},
   "outputs": [],
   "source": []
  }
 ],
 "metadata": {
  "kernelspec": {
   "display_name": "Python 3.8 (LAE2020)",
   "language": "python",
   "name": "lae2020"
  },
  "language_info": {
   "codemirror_mode": {
    "name": "ipython",
    "version": 3
   },
   "file_extension": ".py",
   "mimetype": "text/x-python",
   "name": "python",
   "nbconvert_exporter": "python",
   "pygments_lexer": "ipython3",
   "version": "3.8.5"
  }
 },
 "nbformat": 4,
 "nbformat_minor": 5
}
