{
 "cells": [
  {
   "cell_type": "code",
   "execution_count": 1,
   "metadata": {},
   "outputs": [
    {
     "data": {
      "text/plain": [
       "'/home/chinahg/GCresearch/cantera/build/python/cantera/__init__.py'"
      ]
     },
     "execution_count": 1,
     "metadata": {},
     "output_type": "execute_result"
    }
   ],
   "source": [
    "# include(\"plume_plotting.jl\")\n",
    "\n",
    "# ct = pyimport(\"cantera\")\n",
    "\n",
    "# import Pkg\n",
    "# ENV[\"PYTHON\"] = \"/opt/conda/envs/lae2020/bin/python\"\n",
    "# Pkg.build(\"PyCall\")\n",
    "\n",
    "#!/opt/conda/envs/lae2020/bin/python3\n",
    "\n",
    "from importlib.abc import Loader\n",
    "import sys\n",
    "import os\n",
    "import ruamel.yaml\n",
    "\n",
    "sys.path.insert(0,\"/home/chinahg/GCresearch/cantera/build/python\")\n",
    "sys.path.insert(1,\"/home/chinahg/GCresearch/rocketemissions\")\n",
    "\n",
    "import cantera as ct\n",
    "ct.add_directory('/user/chinahg')\n",
    "ct.__file__"
   ]
  },
  {
   "cell_type": "code",
   "execution_count": 2,
   "metadata": {},
   "outputs": [
    {
     "name": "stdout",
     "output_type": "stream",
     "text": [
      "/bin/bash: ct.ck2yaml: command not found\n"
     ]
    }
   ],
   "source": [
    "! ct.cti2yaml A2NOx.cti"
   ]
  },
  {
   "cell_type": "code",
   "execution_count": null,
   "metadata": {},
   "outputs": [],
   "source": [
    "plotting(\"150571\")"
   ]
  },
  {
   "cell_type": "code",
   "execution_count": null,
   "metadata": {},
   "outputs": [],
   "source": []
  }
 ],
 "metadata": {
  "kernelspec": {
   "display_name": "Python 3.8.10 ('cantera-dev')",
   "language": "python",
   "name": "python3"
  },
  "language_info": {
   "codemirror_mode": {
    "name": "ipython",
    "version": 3
   },
   "file_extension": ".py",
   "mimetype": "text/x-python",
   "name": "python",
   "nbconvert_exporter": "python",
   "pygments_lexer": "ipython3",
   "version": "3.8.10"
  },
  "orig_nbformat": 4,
  "vscode": {
   "interpreter": {
    "hash": "083067afb7f47845a93a5a4d2d180468a1a5b8e4a1bd10ed69caf3ed2aa803cb"
   }
  }
 },
 "nbformat": 4,
 "nbformat_minor": 2
}
