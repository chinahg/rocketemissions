{
 "cells": [
  {
   "cell_type": "code",
   "execution_count": 1,
   "metadata": {},
   "outputs": [
    {
     "name": "stderr",
     "output_type": "stream",
     "text": [
      "\u001b[32m\u001b[1m   Updating\u001b[22m\u001b[39m registry at `~/.julia/registries/General`\n",
      "######################################################################### 100.0%\n",
      "\u001b[32m\u001b[1m  Resolving\u001b[22m\u001b[39m package versions...\n",
      "\u001b[32m\u001b[1mNo Changes\u001b[22m\u001b[39m to `~/.julia/environments/v1.5/Project.toml`\n",
      "\u001b[32m\u001b[1mNo Changes\u001b[22m\u001b[39m to `~/.julia/environments/v1.5/Manifest.toml`\n",
      "\u001b[32m\u001b[1m  Resolving\u001b[22m\u001b[39m package versions...\n",
      "\u001b[32m\u001b[1mNo Changes\u001b[22m\u001b[39m to `~/.julia/environments/v1.5/Project.toml`\n",
      "\u001b[32m\u001b[1mNo Changes\u001b[22m\u001b[39m to `~/.julia/environments/v1.5/Manifest.toml`\n",
      "\u001b[32m\u001b[1m  Resolving\u001b[22m\u001b[39m package versions...\n",
      "\u001b[32m\u001b[1mNo Changes\u001b[22m\u001b[39m to `~/.julia/environments/v1.5/Project.toml`\n",
      "\u001b[32m\u001b[1mNo Changes\u001b[22m\u001b[39m to `~/.julia/environments/v1.5/Manifest.toml`\n",
      "\u001b[32m\u001b[1m  Resolving\u001b[22m\u001b[39m package versions...\n",
      "\u001b[32m\u001b[1mNo Changes\u001b[22m\u001b[39m to `~/.julia/environments/v1.5/Project.toml`\n",
      "\u001b[32m\u001b[1mNo Changes\u001b[22m\u001b[39m to `~/.julia/environments/v1.5/Manifest.toml`\n",
      "\u001b[32m\u001b[1m  Resolving\u001b[22m\u001b[39m package versions...\n",
      "\u001b[32m\u001b[1mNo Changes\u001b[22m\u001b[39m to `~/.julia/environments/v1.5/Project.toml`\n",
      "\u001b[32m\u001b[1mNo Changes\u001b[22m\u001b[39m to `~/.julia/environments/v1.5/Manifest.toml`\n",
      "\u001b[32m\u001b[1m  Resolving\u001b[22m\u001b[39m package versions...\n",
      "\u001b[32m\u001b[1mNo Changes\u001b[22m\u001b[39m to `~/.julia/environments/v1.5/Project.toml`\n",
      "\u001b[32m\u001b[1mNo Changes\u001b[22m\u001b[39m to `~/.julia/environments/v1.5/Manifest.toml`\n",
      "\u001b[32m\u001b[1m  Resolving\u001b[22m\u001b[39m package versions...\n",
      "\u001b[32m\u001b[1mNo Changes\u001b[22m\u001b[39m to `~/.julia/environments/v1.5/Project.toml`\n",
      "\u001b[32m\u001b[1mNo Changes\u001b[22m\u001b[39m to `~/.julia/environments/v1.5/Manifest.toml`\n",
      "\u001b[32m\u001b[1m  Resolving\u001b[22m\u001b[39m package versions...\n",
      "\u001b[32m\u001b[1mNo Changes\u001b[22m\u001b[39m to `~/.julia/environments/v1.5/Project.toml`\n",
      "\u001b[32m\u001b[1mNo Changes\u001b[22m\u001b[39m to `~/.julia/environments/v1.5/Manifest.toml`\n",
      "\u001b[32m\u001b[1m  Resolving\u001b[22m\u001b[39m package versions...\n",
      "\u001b[32m\u001b[1mNo Changes\u001b[22m\u001b[39m to `~/.julia/environments/v1.5/Project.toml`\n",
      "\u001b[32m\u001b[1mNo Changes\u001b[22m\u001b[39m to `~/.julia/environments/v1.5/Manifest.toml`\n",
      "\u001b[32m\u001b[1m  Resolving\u001b[22m\u001b[39m package versions...\n",
      "\u001b[32m\u001b[1mNo Changes\u001b[22m\u001b[39m to `~/.julia/environments/v1.5/Project.toml`\n",
      "\u001b[32m\u001b[1mNo Changes\u001b[22m\u001b[39m to `~/.julia/environments/v1.5/Manifest.toml`\n"
     ]
    },
    {
     "name": "stdout",
     "output_type": "stream",
     "text": [
      "1\n",
      "2\n",
      "3\n",
      "4\n",
      "5\n",
      "6\n",
      "7\n",
      "8\n",
      "9\n",
      "10\n",
      "11\n",
      "12\n",
      "13\n",
      "14\n",
      "15\n",
      "16\n",
      "17\n",
      "18\n",
      "19\n",
      "20\n",
      "21\n",
      "22\n",
      "23\n",
      "24\n",
      "25\n"
     ]
    },
    {
     "name": "stderr",
     "output_type": "stream",
     "text": [
      "┌ Info: Installing Julia nodeps kernelspec in /home/chinahg/.local/share/jupyter/kernels/julia-nodeps-1.5\n",
      "└ @ IJulia /home/chinahg/.julia/packages/IJulia/e8kqU/deps/kspec.jl:94\n"
     ]
    },
    {
     "data": {
      "text/plain": [
       "\"/home/chinahg/.local/share/jupyter/kernels/julia-nodeps-1.5\""
      ]
     },
     "execution_count": 1,
     "metadata": {},
     "output_type": "execute_result"
    }
   ],
   "source": [
    "#Importing other jupyter notebook (calculations)\n",
    "import Pkg\n",
    "Pkg.add(\"NBInclude\")\n",
    "Pkg.add(\"IJulia\")\n",
    "using NBInclude, IJulia\n",
    "\n",
    "@nbinclude(\"plumeSSMEJP.ipynb\")\n",
    "IJulia.installkernel(\"Julia nodeps\", \"--depwarn=no\")"
   ]
  },
  {
   "cell_type": "code",
   "execution_count": 3,
   "metadata": {},
   "outputs": [
    {
     "name": "stdout",
     "output_type": "stream",
     "text": [
      "16000\n"
     ]
    },
    {
     "ename": "LoadError",
     "evalue": "\u001b[91mUndefVarError: χ not defined\u001b[39m",
     "output_type": "error",
     "traceback": [
      "\u001b[91mUndefVarError: χ not defined\u001b[39m",
      "",
      "Stacktrace:",
      " [1] top-level scope at ./In[3]:14",
      " [2] include_string(::Function, ::Module, ::String, ::String) at ./loading.jl:1091"
     ]
    }
   ],
   "source": [
    "#PLOTTING ONLY IN THIS NOTEBOOK\n",
    "h = Int.(LinRange(16000, 40000, space)) #make an array and put in loop for all alts\n",
    "#h = [24000]\n",
    "for m = 1:length(h)\n",
    "    h_string = string(h[m])\n",
    "    print(h_string)\n",
    "    print(\"\\n\")\n",
    "\n",
    "    T = T_save[m,:,:]\n",
    "    u = u_save[m,:,:]\n",
    "    χ = χ_save[m,:,:,:]\n",
    "\n",
    "    #REGRID SOLUTION\n",
    "    xx, yy, u_g, T_g, χ_gH2O =  regrid_solution(x, y, u, T, χ[:,:,6], 0.01);\n",
    "    xx, yy, u_g, T_g, χ_gNO2 =  regrid_solution(x,y, u, T, χ[:,:,37], 0.01);\n",
    "    xx, yy, u_g, T_g, χ_gN2O =  regrid_solution(x, y, u, T, χ[:,:,38], 0.01);\n",
    "    xx, yy, u_g, T_g, χ_gNO =  regrid_solution(x, y, u, T, χ[:,:,36], 0.01);\n",
    "\n",
    "    #PLOT 2D MAPS AND SAVE\n",
    "    plot_H2O = plot_heatmap(xx, yy, χ_gH2O, \"Axial distance, m\", \"Radial distance, m\",\"Concentration\", :magma)\n",
    "    savefig(\"/home/chinahg/GCresearch/rocketemissions/rockettests/\"*h_string*\"m/X_H2O.png\")\n",
    "\n",
    "    #CALCULATE NO EI FOR ALTITUDE\n",
    "    # Sum of all NOx species as a function of x\n",
    "    sumNO = zeros(n);\n",
    "    sumNO2 = zeros(n);\n",
    "    sumN2O = zeros(n);\n",
    "    i = 1\n",
    "    j = 1\n",
    "\n",
    "    for i in 1:n-1\n",
    "        if xx[i] < 0 || xx[i] == NaN\n",
    "            xx[i] = (xx[i-1] + xx[i+1])/2\n",
    "        end\n",
    "        for j in 1:50\n",
    "            #println(j,\" \", i)\n",
    "            #println(χ_gNO[j,i])\n",
    "            if χ_gNO[j,i] < 0 || χ_gNO[j,i]== NaN \n",
    "                println(j)\n",
    "                println(i)\n",
    "                χ_gNO[j,i] = 0\n",
    "            \n",
    "            elseif χ_gNO2[j,i] < 0 || χ_gNO2[j,i]== NaN\n",
    "                println(j)\n",
    "                println(i)\n",
    "                χ_gNO2[j,i] = 0\n",
    "            \n",
    "            elseif χ_gN2O[j,i] < 0 || χ_gN2O[j,i]== NaN\n",
    "                println(j)\n",
    "                println(i)\n",
    "                χ_gN2O[j,i] = 0\n",
    "            end\n",
    "        end \n",
    "    end\n",
    "    #print(χ_gNO[:,20])\n",
    "    i = 1\n",
    "    for i in 1:n\n",
    "        sumNO[i] = sum(χ_gNO[:,i])\n",
    "        sumNO2[i] = sum(χ_gNO2[:,i])\n",
    "        sumN2O[i] = sum(χ_gN2O[:,i])\n",
    "    end\n",
    "\n",
    "    sumNOx = (sumNO+sumNO2+sumN2O)/(50) #total ppm of NOx\n",
    "\n",
    "    #ppm to kg\n",
    "    #Volume for each \"ring\" so we can turn ppm to kg :)\n",
    "    f = 1 #altitude index\n",
    "    volume = zeros(50,27)\n",
    "    NOx_mass = zeros(length(h),27)\n",
    "    for i = 2:27, j = 2:50\n",
    "        volume[j,i] = 0.27*3.1415*(xx[i]-xx[i-1])*(yy[j]^2 - yy[j-1]^2)\n",
    "        NOx_mass[f,i] += (χ_gNO[j,i]+χ_gNO2[j,i]+χ_gN2O[j,i])*volume[j,i]\n",
    "    end\n",
    "\n",
    "    plotNOxMass = plot(xx[1:27], NOx_mass[f,:], ylabel = \"Mass NOx\", xlabel = \"Distance from nozzle exit [m]\", label = \"NOx [kg]\", lw = 3)\n",
    "    savefig(\"/home/chinahg/GCresearch/rocketemissions/rockettests/\"*h_string*\"m/NOxMass.png\")\n",
    "\n",
    "    mdot_f = 67.35 #kg/s\n",
    "    MW_NO2 = 46\n",
    "    MW_NO = 30\n",
    "    NOxEI = (1000 .*NOx_mass[f,:] ./(100*(mdot_f*1.333)))*MW_NO2/MW_NO\n",
    "    plotNOxEI = plot(xx[1:27], NOxEI, ylabel = \"EI NOx\", xlabel = \"Distance from nozzle exit [m]\", label = \"NOx EI [g/kg]\", lw = 3)\n",
    "    savefig(\"/home/chinahg/GCresearch/rocketemissions/rockettests/\"*h_string*\"m/NOxEI.png\")\n",
    "\n",
    "    #NOx mass for each altitude\n",
    "    NOx_mass_alt = zeros(length(h))\n",
    "    NOx_mass_alt[f] = sum(NOx_mass[f,:])*100; #assuming per 10m, times 100 for 1000m change in altitude\n",
    "end"
   ]
  },
  {
   "cell_type": "code",
   "execution_count": null,
   "metadata": {},
   "outputs": [],
   "source": []
  }
 ],
 "metadata": {
  "kernelspec": {
   "display_name": "Julia 1.5.1",
   "language": "julia",
   "name": "julia-1.5"
  },
  "language_info": {
   "file_extension": ".jl",
   "mimetype": "application/julia",
   "name": "julia",
   "version": "1.5.1"
  },
  "orig_nbformat": 4,
  "vscode": {
   "interpreter": {
    "hash": "31f2aee4e71d21fbe5cf8b01ff0e069b9275f58929596ceb00d14d90e3e16cd6"
   }
  }
 },
 "nbformat": 4,
 "nbformat_minor": 2
}
