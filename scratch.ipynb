{
 "cells": [
  {
   "cell_type": "code",
   "execution_count": 1,
   "metadata": {},
   "outputs": [
    {
     "name": "stderr",
     "output_type": "stream",
     "text": [
      "\u001b[32m\u001b[1m   Updating\u001b[22m\u001b[39m registry at `~/.julia/registries/General`\n"
     ]
    },
    {
     "name": "stderr",
     "output_type": "stream",
     "text": [
      "\u001b[32m\u001b[1m  Resolving\u001b[22m\u001b[39m package versions...\n"
     ]
    },
    {
     "name": "stderr",
     "output_type": "stream",
     "text": [
      "\u001b[32m\u001b[1mNo Changes\u001b[22m\u001b[39m to `~/GCresearch/rocketemissions/Project.toml`\n",
      "\u001b[32m\u001b[1mNo Changes\u001b[22m\u001b[39m to `~/GCresearch/rocketemissions/Manifest.toml`\n",
      "\u001b[32m\u001b[1m  Resolving\u001b[22m\u001b[39m package versions...\n"
     ]
    },
    {
     "name": "stderr",
     "output_type": "stream",
     "text": [
      "\u001b[32m\u001b[1mNo Changes\u001b[22m\u001b[39m to `~/GCresearch/rocketemissions/Project.toml`\n",
      "\u001b[32m\u001b[1mNo Changes\u001b[22m\u001b[39m to `~/GCresearch/rocketemissions/Manifest.toml`\n",
      "\u001b[32m\u001b[1m  Resolving\u001b[22m\u001b[39m package versions...\n"
     ]
    },
    {
     "name": "stderr",
     "output_type": "stream",
     "text": [
      "\u001b[32m\u001b[1mNo Changes\u001b[22m\u001b[39m to `~/GCresearch/rocketemissions/Project.toml`\n",
      "\u001b[32m\u001b[1mNo Changes\u001b[22m\u001b[39m to `~/GCresearch/rocketemissions/Manifest.toml`\n",
      "\u001b[32m\u001b[1m  Resolving\u001b[22m\u001b[39m package versions...\n"
     ]
    },
    {
     "name": "stderr",
     "output_type": "stream",
     "text": [
      "\u001b[32m\u001b[1mNo Changes\u001b[22m\u001b[39m to `~/GCresearch/rocketemissions/Project.toml`\n",
      "\u001b[32m\u001b[1mNo Changes\u001b[22m\u001b[39m to `~/GCresearch/rocketemissions/Manifest.toml`\n",
      "\u001b[32m\u001b[1m  Resolving\u001b[22m\u001b[39m package versions...\n"
     ]
    },
    {
     "name": "stderr",
     "output_type": "stream",
     "text": [
      "\u001b[32m\u001b[1mNo Changes\u001b[22m\u001b[39m to `~/GCresearch/rocketemissions/Project.toml`\n",
      "\u001b[32m\u001b[1mNo Changes\u001b[22m\u001b[39m to `~/GCresearch/rocketemissions/Manifest.toml`\n",
      "\u001b[32m\u001b[1m  Resolving\u001b[22m\u001b[39m package versions...\n"
     ]
    },
    {
     "name": "stderr",
     "output_type": "stream",
     "text": [
      "\u001b[32m\u001b[1mNo Changes\u001b[22m\u001b[39m to `~/GCresearch/rocketemissions/Project.toml`\n",
      "\u001b[32m\u001b[1mNo Changes\u001b[22m\u001b[39m to `~/GCresearch/rocketemissions/Manifest.toml`\n",
      "\u001b[32m\u001b[1m  Resolving\u001b[22m\u001b[39m package versions...\n"
     ]
    },
    {
     "name": "stderr",
     "output_type": "stream",
     "text": [
      "\u001b[32m\u001b[1mNo Changes\u001b[22m\u001b[39m to `~/GCresearch/rocketemissions/Project.toml`\n",
      "\u001b[32m\u001b[1mNo Changes\u001b[22m\u001b[39m to `~/GCresearch/rocketemissions/Manifest.toml`\n",
      "\u001b[32m\u001b[1m  Resolving\u001b[22m\u001b[39m package versions...\n"
     ]
    },
    {
     "name": "stderr",
     "output_type": "stream",
     "text": [
      "\u001b[32m\u001b[1mNo Changes\u001b[22m\u001b[39m to `~/GCresearch/rocketemissions/Project.toml`\n",
      "\u001b[32m\u001b[1mNo Changes\u001b[22m\u001b[39m to `~/GCresearch/rocketemissions/Manifest.toml`\n",
      "\u001b[32m\u001b[1m  Resolving\u001b[22m\u001b[39m package versions...\n"
     ]
    },
    {
     "name": "stderr",
     "output_type": "stream",
     "text": [
      "\u001b[32m\u001b[1mNo Changes\u001b[22m\u001b[39m to `~/GCresearch/rocketemissions/Project.toml`\n",
      "\u001b[32m\u001b[1mNo Changes\u001b[22m\u001b[39m to `~/GCresearch/rocketemissions/Manifest.toml`\n",
      "\u001b[32m\u001b[1m  Resolving\u001b[22m\u001b[39m package versions...\n"
     ]
    },
    {
     "name": "stderr",
     "output_type": "stream",
     "text": [
      "\u001b[32m\u001b[1mNo Changes\u001b[22m\u001b[39m to `~/GCresearch/rocketemissions/Project.toml`\n",
      "\u001b[32m\u001b[1mNo Changes\u001b[22m\u001b[39m to `~/GCresearch/rocketemissions/Manifest.toml`\n",
      "\u001b[32m\u001b[1m  Resolving\u001b[22m\u001b[39m package versions...\n"
     ]
    },
    {
     "name": "stderr",
     "output_type": "stream",
     "text": [
      "\u001b[32m\u001b[1mNo Changes\u001b[22m\u001b[39m to `~/GCresearch/rocketemissions/Project.toml`\n",
      "\u001b[32m\u001b[1mNo Changes\u001b[22m\u001b[39m to `~/GCresearch/rocketemissions/Manifest.toml`\n",
      "\u001b[32m\u001b[1m  Resolving\u001b[22m\u001b[39m package versions...\n"
     ]
    },
    {
     "name": "stderr",
     "output_type": "stream",
     "text": [
      "\u001b[32m\u001b[1m  Installed\u001b[22m\u001b[39m Trapz ─ v2.0.3\n"
     ]
    },
    {
     "name": "stderr",
     "output_type": "stream",
     "text": [
      "\u001b[32m\u001b[1mUpdating\u001b[22m\u001b[39m `~/GCresearch/rocketemissions/Project.toml`\n",
      " \u001b[90m [592b5752] \u001b[39m"
     ]
    },
    {
     "name": "stderr",
     "output_type": "stream",
     "text": [
      "\u001b[92m+ Trapz v2.0.3\u001b[39m\n",
      "\u001b[32m\u001b[1mUpdating\u001b[22m\u001b[39m `~/GCresearch/rocketemissions/Manifest.toml`\n",
      " \u001b[90m [592b5752] \u001b[39m\u001b[92m+ Trapz v2.0.3\u001b[39m\n"
     ]
    },
    {
     "data": {
      "text/plain": [
       "PyObject <module 'cantera' from '/opt/conda/envs/lae2020/lib/python3.8/site-packages/cantera/__init__.py'>"
      ]
     },
     "metadata": {},
     "output_type": "display_data"
    }
   ],
   "source": [
    "import Pkg\n",
    "\n",
    "Pkg.add(\"Interpolations\")\n",
    "Pkg.add(\"PyPlot\")\n",
    "Pkg.add(\"PyCall\")\n",
    "Pkg.add(\"OrdinaryDiffEq\")\n",
    "Pkg.add(\"YAML\")\n",
    "Pkg.add(\"DelimitedFiles\")\n",
    "Pkg.add(\"CSV\")\n",
    "Pkg.add(\"HDF5\")\n",
    "Pkg.add(\"StructArrays\")\n",
    "Pkg.add(\"Random\")\n",
    "Pkg.add(\"Statistics\")\n",
    "\n",
    "using Interpolations, PyCall, OrdinaryDiffEq,\n",
    "YAML, DelimitedFiles, CSV, HDF5, StructArrays, Random, \n",
    "NBInclude, PyPlot, Statistics\n",
    "\n",
    "ct = pyimport(\"cantera\")"
   ]
  },
  {
   "cell_type": "code",
   "execution_count": 5,
   "metadata": {},
   "outputs": [
    {
     "data": {
      "text/plain": [
       "compute_y (generic function with 1 method)"
      ]
     },
     "metadata": {},
     "output_type": "display_data"
    }
   ],
   "source": [
    "### COMPUTE u AND T AND χ\n",
    "\n",
    "struct gas_type\n",
    "    gas\n",
    "end\n",
    "\n",
    "### COMPUTE u AND T: FUNCTIONS ###\n",
    "\n",
    "function compute_y(u::AbstractVector, ρ_mean::AbstractFloat, \n",
    "    Δψ::AbstractVector)\n",
    "    return (2 * cumsum((1/(ρ_mean .* u)) .* Δψ) .^ 0.5)\n",
    "end"
   ]
  },
  {
   "cell_type": "code",
   "execution_count": 6,
   "metadata": {},
   "outputs": [
    {
     "name": "stdout",
     "output_type": "stream",
     "text": [
      "PyObject <cantera.composite.Solution object at 0x7f848b9bd9e0>"
     ]
    },
    {
     "ename": "UndefKeywordError",
     "evalue": "UndefKeywordError: keyword argument dims not assigned",
     "output_type": "error",
     "traceback": [
      "UndefKeywordError: keyword argument dims not assigned\n",
      "\n",
      "Stacktrace:\n",
      " [1] cumsum(::Array{Float64,2}) at ./accumulate.jl:112\n",
      " [2] compute_y(::Array{Float64,1}, ::Float64, ::Array{Float64,1}) at /home/chinahg/GCresearch/rocketemissions/scratch.ipynb:11\n",
      " [3] top-level scope at /home/chinahg/GCresearch/rocketemissions/scratch.ipynb:73"
     ]
    }
   ],
   "source": [
    "### COMPUTE u AND T ###\n",
    "# No chemistry\n",
    "\n",
    "## Constants/Inputs ##\n",
    "h = [16000] # altitude to caluclate plume properties at [m]\n",
    "h_string = \"16000\"\n",
    "n = 100 # steps in x/ϕ direction\n",
    "s = 200 # steps in y/ψ direction\n",
    "m = 1 # counter for test set to only test single altitude\n",
    "Pr = 1.0 # prandtl number\n",
    "Le = 1.0 # lewis number\n",
    "n_species = 53 # number of species in mechanism file\n",
    "\n",
    "# create spacing arrays for ϕ and ψ\n",
    "Δϕ = 0.1 * ones(n) #step size in phi\n",
    "for i = 2:n\n",
    "    Δϕ[i] = 1.05 * Δϕ[i-1] #enlarge with each step by 1.05\n",
    "end\n",
    "\n",
    "Δψ = 0.1 * ones(s) #s vertical grid points\n",
    "for i = 2:s\n",
    "    Δψ[i] = 1.05 * Δψ[i-1] #enlarge with each step by 1.05\n",
    "end\n",
    "\n",
    "## Initialize loop over altitudes of interest\n",
    "\n",
    "for m = 1:length(h)\n",
    "    h_string = string(h[m])\n",
    "\n",
    "    # Import rocket exit conditions from upstream (u, T, p)\n",
    "    u0 = HDF5.h5read(\"/home/chinahg/GCresearch/rocketemissions/plot_data.h5\", h_string * \"m/u\") # initial plume velocity [m/s]\n",
    "    u0 = convert(AbstractFloat, u0[2])\n",
    "    T0 = HDF5.h5read(\"/home/chinahg/GCresearch/rocketemissions/plot_data.h5\", h_string * \"m/T\") # initial plume temperature [K]\n",
    "    T0 = convert(AbstractFloat, T0[2])\n",
    "    p_all = HDF5.h5read(\"/home/chinahg/GCresearch/rocketemissions/plot_data.h5\", h_string * \"m/P\") #ambient pressure [Pa]\n",
    "    p = convert(AbstractFloat, p_all[2])\n",
    "    χ0_full = HDF5.h5read(\"/home/chinahg/GCresearch/rocketemissions/plot_data.h5\", h_string * \"m/X\")\n",
    "    χ0 = zeros(length(χ0_full[:,2]))\n",
    "\n",
    "    for d = 1: length(χ0_full[:,2])\n",
    "        χ0[d] = χ0_full[d,2] # save PPM of species exiting rocket plume\n",
    "    end\n",
    "\n",
    "    #curve fit #a = ambient vel [m/s] (speed of rocket) #NEED TO UPDATE W HORIZONTAL VELOCITY\n",
    "    u_a = 1.11849E-19 * big(h[m])^5 - 1.14814E-14 * big(h[m])^4 + 4.22542E-10 * big(h[m])^3 - 6.92322E-06 * big(h[m])^2 + 6.58761E-02 * big(h[m]) + 5.37920E+01\n",
    "    T_a = HDF5.h5read(\"/home/chinahg/GCresearch/rocketemissions/plot_data.h5\", h_string * \"m/T_a\") # ambient atmospheric temperature [K]\n",
    "    χ_a = zeros(n_species)\n",
    "    # set each individual species to respective PPM for ambient air, assume air composition does not change significantly with altitude\n",
    "    χ_a[48] = 780790 #ppm N2\n",
    "    χ_a[4] = 209445 #ppm O2\n",
    "    χ_a[49] = 0 #ppm Ar #CHANGE BACK AFTER DEBUG TO 9339\n",
    "    χ_a[16] = 9765 #ppm CO2 #426\n",
    "\n",
    "    #CHECK THAT IMPORTED CONDITIONS ARE CORRECT\n",
    "\n",
    "    ## Initialize initial u and T conditions: at x/ϕ = 0, y/ψ = all\n",
    "    gas_init = ct.Solution(\"gri30.yaml\") # create a gas object tuple to define the density with Cantera\n",
    "    gas_amb = ct.Solution(\"gri30.yaml\") # create a gas object tuple to define the density with Cantera\n",
    "    gas_g = StructArray{gas_type}(undef,s,n,length(h)) # make tuple to hold gas objects for each ϕ/ψ point at each altitude\n",
    "    gas_g .= [gas_type(0)] # initialize tuple\n",
    "    gas_init.TPX = T0, p, χ0 # set state of gas to be rocket exhaust conditions\n",
    "    print(gas_init)\n",
    "    #gas_g.gas[:,1,m] .= gas_init[2] # save exhaust conditions in tuple for all ψ and ϕ = 1, and m = altitude index\n",
    "    gas_amb.TPX = T_a, p, χ_a # set state of gas to be ambient conditions\n",
    "\n",
    "    u_init = u0 .* ones(s) # array of length y/ψ filled with rocket exit velocity value [m/s]\n",
    "    T_init = T0 .* ones(s) # array of length y/ψ filled with rocket exit temperature value [K]\n",
    "    ρ_mean = (gas_init.density_mass[1] + gas_amb.density_mass[1])/2 # NOTE not the best way but cant figure out circular logic btw density and y NOTE\n",
    "    # we need to define the initial plume geometry by filling the initial u and T arrays with ambient u and T values outside of the plume radius\n",
    "    radius = 1.147 # rocket exit plume radius [m]\n",
    "\n",
    "    # have to map ψ in y domain to map properties to the correct grid-points (inside or outside plume radius)\n",
    "    y_init = compute_y(u_init, ρ_mean, Δψ) #REDERIVE\n",
    "\n",
    "    # if y is greater than the radius of the plume, assign the ambient conditions to that point\n",
    "    u_init[y_init.>radius] .= convert(AbstractFloat, u_a)\n",
    "    T_init[y_init.>radius] .= convert(AbstractFloat, T_a)\n",
    "    gas_g.gas[y_init.>radius,1,m] = gas_init\n",
    "\n",
    "end\n",
    "\n",
    "#R = \n",
    "#\n",
    "#ambient = AmbientConditions(u_a, T_a, 1.0, 1.0, R, p, T0, u0)\n",
    "#\n",
    "##Solve for T and u at all steps: NO CHEMISTRY\n",
    "#x, y, u, T, ϵ = solve_exhaust_flow(u_init, T_init, ambient, n, Δϕ, Δψ)\n",
    "#x_save = x\n",
    "#y_save = y\n",
    "#T_save[m, :, :] = T\n",
    "#u_save[m, :, :] = u"
   ]
  },
  {
   "cell_type": "code",
   "execution_count": 4,
   "metadata": {},
   "outputs": [
    {
     "ename": "UndefVarError",
     "evalue": "UndefVarError: solve_exhaust_flow not defined",
     "output_type": "error",
     "traceback": [
      "UndefVarError: solve_exhaust_flow not defined\n",
      "\n",
      "Stacktrace:\n",
      " [1] top-level scope at /home/chinahg/GCresearch/rocketemissions/scratch.ipynb:2"
     ]
    }
   ],
   "source": [
    "# Computing u and T independent of chemistry\n",
    "x, y, u, T, ϵ = solve_exhaust_flow(u_init, T_init, ambient, n, Δϕ, Δψ)"
   ]
  }
 ],
 "metadata": {
  "kernelspec": {
   "display_name": "Julia 1.5.1",
   "language": "julia",
   "name": "julia-1.5"
  },
  "language_info": {
   "file_extension": ".jl",
   "mimetype": "application/julia",
   "name": "julia",
   "version": "1.5.1"
  },
  "orig_nbformat": 4,
  "vscode": {
   "interpreter": {
    "hash": "31f2aee4e71d21fbe5cf8b01ff0e069b9275f58929596ceb00d14d90e3e16cd6"
   }
  }
 },
 "nbformat": 4,
 "nbformat_minor": 2
}
